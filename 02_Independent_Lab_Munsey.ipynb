{
  "metadata": {
    "kernelspec": {
      "name": "python",
      "display_name": "Python (Pyodide)",
      "language": "python"
    },
    "language_info": {
      "codemirror_mode": {
        "name": "python",
        "version": 3
      },
      "file_extension": ".py",
      "mimetype": "text/x-python",
      "name": "python",
      "nbconvert_exporter": "python",
      "pygments_lexer": "ipython3",
      "version": "3.8"
    }
  },
  "nbformat_minor": 5,
  "nbformat": 4,
  "cells": [
    {
      "id": "849a400b-7a72-4c8d-bb94-fa601c582db5",
      "cell_type": "code",
      "source": "# BGEN 632 - MSBA Program\n## Week 2 Instructor-led Lab\n### Author: Parker Munsey\n### Submission Date: March 2025\n\n#Welcome to my Celsius to Fahrenheit converter! This notebook will take a temperature in Celsius as input, convert it to Fahrenheit using the formula:\n\n#\\[ F = \\left(\\frac{9}{5}\\right) \\times C + 32 \\]\n\n#and output the converted value.\n\n\n\n# Step 1: Initialize Variables\ncelsius = 0.0  # Variable to store Celsius input\nfahrenheit = 0.0  # Variable to store converted Fahrenheit value\n\n# Step 2: Request User Input\ncelsius = 37\n\n# Step 3: Convert Celsius to Fahrenheit\nfahrenheit = (9 / 5) * celsius + 32\n\n# Step 4: Output the Result\nprint(f\"{celsius} degrees Celsius is {fahrenheit} degrees Fahrenheit.\")\n\n# Type Conversion: Convert Fahrenheit to Integer\nint_fahrenheit = int(fahrenheit)\nprint(f\"Rounded Fahrenheit: {int_fahrenheit}\")\nprint(f\"Data type of int_fahrenheit: {type(int_fahrenheit)}\")\n\n",
      "metadata": {
        "trusted": true
      },
      "outputs": [
        {
          "name": "stdout",
          "output_type": "stream",
          "text": "37 degrees Celsius is 98.60000000000001 degrees Fahrenheit.\nRounded Fahrenheit: 98\nData type of int_fahrenheit: <class 'int'>\n"
        }
      ],
      "execution_count": 8
    },
    {
      "id": "84266651-87af-445e-ab39-d97247ea695d",
      "cell_type": "code",
      "source": "",
      "metadata": {
        "trusted": true
      },
      "outputs": [],
      "execution_count": null
    }
  ]
}