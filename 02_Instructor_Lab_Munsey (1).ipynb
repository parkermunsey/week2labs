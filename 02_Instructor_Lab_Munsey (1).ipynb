{
  "metadata": {
    "kernelspec": {
      "name": "python",
      "display_name": "Python (Pyodide)",
      "language": "python"
    },
    "language_info": {
      "codemirror_mode": {
        "name": "python",
        "version": 3
      },
      "file_extension": ".py",
      "mimetype": "text/x-python",
      "name": "python",
      "nbconvert_exporter": "python",
      "pygments_lexer": "ipython3",
      "version": "3.8"
    }
  },
  "nbformat_minor": 5,
  "nbformat": 4,
  "cells": [
    {
      "id": "f6d4d717-f2b8-4ae2-9fa8-b1feefe35608",
      "cell_type": "markdown",
      "source": "UM MSBA - BGEN 632\n\n# Week 2 Instructor-led Lab\n\nIn this assignment you will create basic code showcasing the concepts you learned about in the tutorial. \n\n**Create Code cells below this Markdown cell to complete the assignment. Write and run your code. To get full points, your submitted notebook must include saved output in addition to written code.** \n\nFor this assignment, you are not required to create any Markdown cells but you are encouraged to do so to improve the aesthetics and organization of your lab submission. \n\nAs stated in the syllabus, you <ins>must</ins> include information about your use of online resources to complete assignments, including chatbots like ChatGPT. You can include reference information within your notebooks and/or within separate files pushed to your repo on GitHub. Failure to disclose the use of online resources is a violation of course policy.\n\n## Assigning Values\n\nFor this portion of the assignment, you will create variables in your notebook. You will assign a value to each variable. Please perform the following tasks and create each variable by assigning the following values:\n\n* my_int assign it a number between 1 and 20, inclusive.\n* long_a assign it the number 6,323,527,192.\n* float_pi assign it the number 3.14159\n* my_double assign it a fractional number with 13 decimals.\n* decimal_a assign it a fractional number with 20 decimals.\n* big_griz assign it the value G (uppercase).\n* my_hello assign it a greeting to the entire class.\n* my_goodbye assign it a farewell to your class.\n\n## Single Line Comments\n\nAt the end of each variable, on the same line, place a single-line comment with a short description of each variable. For example, it would look like this:\n\n```\nnew_double = 38.936921934     # A double with 9 decimal places\n```\n\n## Print Output\n\nNow that you have assigned values to your variables, let's print them. Output each variable individually.\n\n## Type Conversion\n\nThe last task you have for this lab involves type conversion. Create new variables with the following types, names, and values. Use an explicit type conversion.\n\n* `int` named my_new_int with a number between 1 and 20, inclusive.\n* `float` named float_b with value 3.14159.\n  \nOutput both variables. \n\n---",
      "metadata": {
        "editable": true,
        "slideshow": {
          "slide_type": ""
        },
        "tags": []
      }
    },
    {
      "id": "5a441a58-17e4-45b6-9845-d133d3b7fb33",
      "cell_type": "markdown",
      "source": "# Assigning Values\nmy_int = 10  # A number between 1 and 20\nlong_a = 6323527192  # A long integer value\nfloat_pi = 3.14159  # Floating point representation of pi\nmy_double = 2.7182818284590  # A double with 13 decimal places\ndecimal_a = 1.23456789012345678901  # A decimal with 20 decimal places\nbig_griz = 'G'  # Uppercase letter G\nmy_hello = \"Hello, class!\"  # Greeting to the class\nmy_goodbye = \"Goodbye, everyone!\"  # Farewell to the class\n\n# Print Output\nprint(my_int)\nprint(long_a)\nprint(float_pi)\nprint(my_double)\nprint(decimal_a)\nprint(big_griz)\nprint(my_hello)\nprint(my_goodbye)\n\n# Type Conversion\nmy_new_int = int(12)  # Explicitly converting to an integer\nfloat_b = float(3.14159)  # Explicitly converting to a float\n\n# Output converted variables\nprint(my_new_int)\nprint(float_b)",
      "metadata": {}
    },
    {
      "id": "c934cd18-616b-44b4-aaee-a77eea721914",
      "cell_type": "code",
      "source": "# Assigning Values\nmy_int = 10  # A number between 1 and 20\nlong_a = 6323527192  # A long integer value\nfloat_pi = 3.14159  # Floating point representation of pi\nmy_double = 2.7182818284590  # A double with 13 decimal places\ndecimal_a = 1.23456789012345678901  # A decimal with 20 decimal places\nbig_griz = 'G'  # Uppercase letter G\nmy_hello = \"Hello, class!\"  # Greeting to the class\nmy_goodbye = \"Goodbye, everyone!\"  # Farewell to the class\n\n# Print Output\nprint(my_int)\nprint(long_a)\nprint(float_pi)\nprint(my_double)\nprint(decimal_a)\nprint(big_griz)\nprint(my_hello)\nprint(my_goodbye)\n\n# Type Conversion\nmy_new_int = int(12)  # Explicitly converting to an integer\nfloat_b = float(3.14159)  # Explicitly converting to a float\n\n# Output converted variables\nprint(my_new_int)\nprint(float_b)\n",
      "metadata": {
        "trusted": true
      },
      "outputs": [
        {
          "name": "stdout",
          "output_type": "stream",
          "text": "10\n6323527192\n3.14159\n2.718281828459\n1.2345678901234567\nG\nHello, class!\nGoodbye, everyone!\n12\n3.14159\n"
        }
      ],
      "execution_count": 1
    },
    {
      "id": "c7a1b15b-e0f5-423d-9fff-3e50f47f25c1",
      "cell_type": "code",
      "source": "",
      "metadata": {
        "trusted": true
      },
      "outputs": [],
      "execution_count": null
    }
  ]
}